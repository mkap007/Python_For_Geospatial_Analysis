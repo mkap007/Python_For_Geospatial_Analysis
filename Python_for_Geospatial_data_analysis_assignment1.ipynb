{
  "nbformat": 4,
  "nbformat_minor": 0,
  "metadata": {
    "colab": {
      "provenance": [],
      "authorship_tag": "ABX9TyNZUI/bA1HldUaAAdCTMBgL",
      "include_colab_link": true
    },
    "kernelspec": {
      "name": "python3",
      "display_name": "Python 3"
    },
    "language_info": {
      "name": "python"
    }
  },
  "cells": [
    {
      "cell_type": "markdown",
      "metadata": {
        "id": "view-in-github",
        "colab_type": "text"
      },
      "source": [
        "<a href=\"https://colab.research.google.com/github/mkap007/Python_For_Geospatial_Analysis/blob/main/Python_for_Geospatial_data_analysis_assignment1.ipynb\" target=\"_parent\"><img src=\"https://colab.research.google.com/assets/colab-badge.svg\" alt=\"Open In Colab\"/></a>"
      ]
    },
    {
      "cell_type": "code",
      "execution_count": 3,
      "metadata": {
        "colab": {
          "base_uri": "https://localhost:8080/",
          "height": 0
        },
        "id": "Rg-bfdJrLB4x",
        "outputId": "c4a19a29-e387-422e-d1e1-5ee3b269a5d8"
      },
      "outputs": [
        {
          "output_type": "stream",
          "name": "stdout",
          "text": [
            "['D', 'C', 'B', 'A', 5, 4, 3, 2, 1]\n"
          ]
        }
      ],
      "source": [
        "def rev (list2):\n",
        "  revlist = list2 [:: -1]\n",
        "  return revlist\n",
        "\n",
        "\n",
        "list1 = [1, 2, 3, 4, 5,'A', 'B', 'C', 'D']\n",
        "print (rev(list1))\n",
        "\n"
      ]
    },
    {
      "cell_type": "code",
      "source": [
        "list1 = [1, 2, 3, 4, 5]\n",
        "list2 = ['A', 'B', 'C', 'D']\n",
        "flist =list1 + list2\n",
        "print (flist)\n",
        "\n",
        "list1.extend(list2)\n",
        "print (list1)"
      ],
      "metadata": {
        "colab": {
          "base_uri": "https://localhost:8080/",
          "height": 0
        },
        "id": "2k1YbMCtNRnC",
        "outputId": "06201500-df52-4d0c-e086-27200f3fcda5"
      },
      "execution_count": 17,
      "outputs": [
        {
          "output_type": "stream",
          "name": "stdout",
          "text": [
            "[1, 2, 3, 4, 5, 'A', 'B', 'C', 'D']\n",
            "[1, 2, 3, 4, 5, 'A', 'B', 'C', 'D']\n"
          ]
        }
      ]
    },
    {
      "cell_type": "code",
      "source": [
        "list1 = [10, 20, 30, 40, 50, 2, 23]\n",
        "sum_list = sum(list1)\n",
        "print(sum_list)\n",
        "\n",
        "max_list = max(list1)\n",
        "print(max_list)\n",
        "\n",
        "list1.sort()\n",
        "second_largest = list1 [-2]\n",
        "print(second_largest)\n",
        "\n",
        "print (list1 [0])\n",
        "\n",
        "len1 = len(list1)\n",
        "print (len1)\n"
      ],
      "metadata": {
        "colab": {
          "base_uri": "https://localhost:8080/",
          "height": 0
        },
        "id": "-yP54H-AOQJI",
        "outputId": "7314a410-f031-4cfa-96b3-a9c6fe181fd1"
      },
      "execution_count": 16,
      "outputs": [
        {
          "output_type": "stream",
          "name": "stdout",
          "text": [
            "175\n",
            "50\n",
            "40\n",
            "2\n",
            "7\n"
          ]
        }
      ]
    },
    {
      "cell_type": "code",
      "source": [
        "county = ['India', 'Egypt', 'Turkey', 'Japan', 'Norway', 'Iceland', 'Australia']\n",
        "\n",
        "asc_count = sorted (county)\n",
        "print (\"Country names in Ascending order: \", asc_count)\n",
        "\n",
        "desc_count = sorted (county, reverse = True)\n",
        "print (\"Country names in Descending order: \", desc_count)\n",
        "\n",
        "county2 = ['USA', 'Russia', 'China']\n",
        "comb_count = county + county2\n",
        "print(\"Combined Country names: \", comb_count)\n",
        "\n",
        "county2.append(\"UAE\")\n",
        "print (\"Appending a country name to country2 list: \", county2)"
      ],
      "metadata": {
        "colab": {
          "base_uri": "https://localhost:8080/",
          "height": 0
        },
        "id": "uzpTym7nRhp0",
        "outputId": "c0ae8d15-738b-44c9-95c3-05e6779460bb"
      },
      "execution_count": 27,
      "outputs": [
        {
          "output_type": "stream",
          "name": "stdout",
          "text": [
            "Country names in Ascending order:  ['Australia', 'Egypt', 'Iceland', 'India', 'Japan', 'Norway', 'Turkey']\n",
            "Country names in Descending order:  ['Turkey', 'Norway', 'Japan', 'India', 'Iceland', 'Egypt', 'Australia']\n",
            "Combined Country names:  ['India', 'Egypt', 'Turkey', 'Japan', 'Norway', 'Iceland', 'Australia', 'USA', 'Russia', 'China']\n",
            "Appending a country name to country2 list:  ['USA', 'Russia', 'China', 'UAE']\n"
          ]
        }
      ]
    },
    {
      "cell_type": "code",
      "source": [
        "l1 = [1, 2, 3, 4, 5]\n",
        "print (f'List 1 is : {l1}')\n",
        "\n",
        "l2 = [13, 5, 7, 9, 11, 12]\n",
        "#result1 = l2*2.5\n",
        "#print(result1)\n",
        "try:\n",
        "    result = l2 * 2.5\n",
        "except TypeError:\n",
        "    print(\"Error: You can't multiply a list by a float.\")\n",
        "\n",
        "result = l2 * 3\n",
        "print(f'Result of multiplying List 2 by 3: {result}')"
      ],
      "metadata": {
        "colab": {
          "base_uri": "https://localhost:8080/",
          "height": 0
        },
        "id": "xA5fhUdjVlHJ",
        "outputId": "82f382bd-d61a-4488-9910-27af8b235c02"
      },
      "execution_count": 37,
      "outputs": [
        {
          "output_type": "stream",
          "name": "stdout",
          "text": [
            "List 1 is : [1, 2, 3, 4, 5]\n",
            "Error: You can't multiply a list by a float.\n",
            "Result of multiplying List 2 by 3: [13, 5, 7, 9, 11, 12, 13, 5, 7, 9, 11, 12, 13, 5, 7, 9, 11, 12]\n"
          ]
        }
      ]
    },
    {
      "cell_type": "code",
      "source": [
        "# Import the numpy library\n",
        "import numpy as np\n",
        "\n",
        "# Create a 1-D array using a list\n",
        "arr1 = np.array([1, 2, 3, 4, 5])\n",
        "print(f'Array 1: {arr1}')\n",
        "\n",
        "# Multiply each element with 2.5\n",
        "arr1 = array1 * 2.5\n",
        "print(f'Array 1 after multiplication: {arr1}')\n",
        "\n",
        "# Create a 1-D array with the elements (1, 'abc', True)\n",
        "arr2 = np.array([1, 'abc', True])\n",
        "print(f'Array 2: {arr2}')\n",
        "\n",
        "# Create 2 lists with elements (1,2,3) and (4,5,6) and perform addition\n",
        "\n",
        "list1 = [1, 2, 3]\n",
        "list2 = [4, 5, 6]\n",
        "\n",
        "list_add = []\n",
        "\n",
        "for i in range(len(list1)):\n",
        "    list_add.append(list1[i] + list2[i])\n",
        "\n",
        "# Print the result\n",
        "print('Result of list addition:', list_add)\n",
        "\n",
        "\n",
        "# Convert the above lists to Array and perform addition.\n",
        "arr3 = np.array(list1)\n",
        "arr4 = np.array(list2)\n",
        "arr_add = arr3 + arr4\n",
        "print(f'Result of array addition: {arr_add}')\n",
        "\n",
        "# Create an array with 4 elements filled with zeros\n",
        "zeros = np.zeros(4)\n",
        "print(f'Array of zeros: {zeros}')\n",
        "\n",
        "# Create an array with values from 0 to 6\n",
        "arr5 = np.arange(7)\n",
        "print(f'Array from 0 to 6: {arr5}')\n",
        "\n",
        "# Create an array that starts from the integer 1, ends at 20, incremented by 3\n",
        "arr6 = np.arange(1, 20, 3)\n",
        "print(f'Array from 1 to 20 with step 3: {arr6}')\n",
        "\n",
        "# Create an array using np.arange(1, 20, 3, dtype=float)\n",
        "arr7 = np.arange(1, 20, 3, dtype=float)\n",
        "print(f'Array from 1 to 20 with step 3 (float): {arr7}')\n",
        "\n",
        "# Create an empty numpy array\n",
        "empty_arr = np.empty((0))\n",
        "print(f'Empty array: {empty_arr}')\n",
        "\n",
        "# Create a 2D array\n",
        "arr_2d = np.array([[1, 2, 3], [4, 5, 6]])\n",
        "print(f'2D array: \\n{arr_2d}')\n"
      ],
      "metadata": {
        "colab": {
          "base_uri": "https://localhost:8080/",
          "height": 0
        },
        "id": "ulorf-INYHFD",
        "outputId": "b2b0e4fe-0d0a-4c3b-f740-77dfbb9d0504"
      },
      "execution_count": 42,
      "outputs": [
        {
          "output_type": "stream",
          "name": "stdout",
          "text": [
            "Array 1: [1 2 3 4 5]\n",
            "Array 1 after multiplication: [ 6.25 12.5  18.75 25.   31.25]\n",
            "Array 2: ['1' 'abc' 'True']\n",
            "Result of list addition: [5, 7, 9]\n",
            "Result of array addition: [5 7 9]\n",
            "Array of zeros: [0. 0. 0. 0.]\n",
            "Array from 0 to 6: [0 1 2 3 4 5 6]\n",
            "Array from 1 to 20 with step 3: [ 1  4  7 10 13 16 19]\n",
            "Array from 1 to 20 with step 3 (float): [ 1.  4.  7. 10. 13. 16. 19.]\n",
            "Empty array: []\n",
            "2D array: \n",
            "[[1 2 3]\n",
            " [4 5 6]]\n"
          ]
        }
      ]
    }
  ]
}