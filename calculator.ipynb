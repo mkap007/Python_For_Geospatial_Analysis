{
  "nbformat": 4,
  "nbformat_minor": 0,
  "metadata": {
    "colab": {
      "provenance": [],
      "authorship_tag": "ABX9TyNvS/P5m5ZiEauM4/4oZD5I",
      "include_colab_link": true
    },
    "kernelspec": {
      "name": "python3",
      "display_name": "Python 3"
    },
    "language_info": {
      "name": "python"
    }
  },
  "cells": [
    {
      "cell_type": "markdown",
      "metadata": {
        "id": "view-in-github",
        "colab_type": "text"
      },
      "source": [
        "<a href=\"https://colab.research.google.com/github/mkap007/Python_For_Geospatial_Analysis/blob/main/calculator.ipynb\" target=\"_parent\"><img src=\"https://colab.research.google.com/assets/colab-badge.svg\" alt=\"Open In Colab\"/></a>"
      ]
    },
    {
      "cell_type": "code",
      "execution_count": 4,
      "metadata": {
        "colab": {
          "base_uri": "https://localhost:8080/"
        },
        "id": "6Uzrj5Ek2GND",
        "outputId": "5da0e675-6e99-4d9b-b656-e3561c14cefd"
      },
      "outputs": [
        {
          "output_type": "stream",
          "name": "stdout",
          "text": [
            "Matrix 1:\n",
            "[[0.36671563 0.5528139  0.11157644 0.11588894]\n",
            " [0.03775789 0.56187687 0.20046476 0.54334842]\n",
            " [0.4990758  0.14971755 0.13615209 0.6486536 ]\n",
            " [0.83521751 0.70090608 0.41210014 0.90477482]]\n",
            "Shape: (4, 4)\n",
            "Size: 16\n",
            "Data type: float64\n",
            "Dimension: 2\n",
            "\n",
            "Matrix 2:\n",
            "[[0.25446588 0.45646466 0.2085455  0.83385843]\n",
            " [0.34848023 0.83166182 0.63055365 0.98619306]\n",
            " [0.55696541 0.90221639 0.93378661 0.5191443 ]\n",
            " [0.23011255 0.21812683 0.37530017 0.13582681]]\n",
            "Shape: (4, 4)\n",
            "Size: 16\n",
            "Data type: float64\n",
            "Dimension: 2\n"
          ]
        }
      ],
      "source": [
        "import numpy as np\n",
        "\n",
        "# Create two random 4*4 matrices\n",
        "matrix1 = np.random.rand(4, 4)\n",
        "matrix2 = np.random.rand(4, 4)\n",
        "\n",
        "# Display basic properties of the matrices\n",
        "print(\"Matrix 1:\")\n",
        "print(matrix1)\n",
        "print(\"Shape:\", matrix1.shape)\n",
        "print(\"Size:\", matrix1.size)\n",
        "print(\"Data type:\", matrix1.dtype)\n",
        "print(\"Dimension:\", matrix1.ndim)\n",
        "print()\n",
        "\n",
        "print(\"Matrix 2:\")\n",
        "print(matrix2)\n",
        "print(\"Shape:\", matrix2.shape)\n",
        "print(\"Size:\", matrix2.size)\n",
        "print(\"Data type:\", matrix2.dtype)\n",
        "print(\"Dimension:\", matrix1.ndim)\n"
      ]
    },
    {
      "cell_type": "code",
      "source": [
        "# Addition\n",
        "add = np.add(matrix1, matrix2)\n",
        "print(\"Matrix 1 + Matrix 2:\")\n",
        "print(add)\n",
        "print()\n",
        "\n",
        "# Subtraction\n",
        "sub = np.subtract(matrix1, matrix2)\n",
        "print(\"Matrix 1 - Matrix 2:\")\n",
        "print(sub)\n",
        "print()\n",
        "\n",
        "# Multiplication\n",
        "mul = np.multiply(matrix1, matrix2)\n",
        "print(\"Matrix 1 * Matrix 2:\")\n",
        "print(mul)\n",
        "print()\n",
        "\n",
        "# Division\n",
        "div = np.divide(matrix1, matrix2)\n",
        "print(\"Matrix 1 / Matrix 2:\")\n",
        "print(div)\n",
        "print()"
      ],
      "metadata": {
        "colab": {
          "base_uri": "https://localhost:8080/"
        },
        "id": "ugJKVE9k2o0d",
        "outputId": "9bc6fd4a-4946-488f-a6d3-bd875ee94d32"
      },
      "execution_count": 2,
      "outputs": [
        {
          "output_type": "stream",
          "name": "stdout",
          "text": [
            "Matrix 1 + Matrix 2:\n",
            "[[0.6262961  0.39157131 0.24950556 1.19547496]\n",
            " [1.1180277  1.21767367 0.27234735 0.96693968]\n",
            " [0.43412747 0.94982717 1.02880143 0.84580033]\n",
            " [0.90069105 0.177343   1.26642041 0.55808044]]\n",
            "\n",
            "Matrix 1 - Matrix 2:\n",
            "[[-0.57856147  0.28547979  0.20605446 -0.10132335]\n",
            " [-0.83637383  0.09595965 -0.04290915 -0.95350008]\n",
            " [-0.34244778  0.88542353  0.75966927 -0.21268057]\n",
            " [-0.107937    0.09610702  0.41808507 -0.03467362]]\n",
            "\n",
            "Matrix 1 * Matrix 2:\n",
            "[[0.01437835 0.01795735 0.00494865 0.35472349]\n",
            " [0.13761619 0.36838023 0.01808297 0.00645248]\n",
            " [0.01779905 0.02954921 0.12033374 0.16753629]\n",
            " [0.19989849 0.0055535  0.35725638 0.07756288]]\n",
            "\n",
            "Matrix 1 / Matrix 2:\n",
            "[[3.96184764e-02 6.38176427e+00 1.04844297e+01 8.43733062e-01]\n",
            " [1.44112591e-01 1.17109468e+00 7.27782615e-01 6.99818759e-03]\n",
            " [1.18056418e-01 2.84960716e+01 6.64532522e+00 5.98139994e-01]\n",
            " [7.85972639e-01 3.36611968e+00 1.98565991e+00 8.83008398e-01]]\n",
            "\n"
          ]
        }
      ]
    },
    {
      "cell_type": "code",
      "source": [
        "def user_matrix():\n",
        "  rows = int (input(\"\\nEnter the Numbers of Rows: \"))\n",
        "  cols= int (input(\"\\nEnter the Number of Columns: \"))\n",
        "\n",
        "  mtrx = []\n",
        "  for i in range (rows):\n",
        "   row = []\n",
        "   for j in range (cols):\n",
        "     elements = float(input(f\"\\nEnter the Elemets at Row {i+1} and Column {j+1}:\"))\n",
        "     row.append(elements)\n",
        "\n",
        "   mtrx.append(row)\n",
        "  mtrx = np.array(mtrx)\n",
        "  return mtrx\n",
        "\n",
        "def cal (mtrx1, mtrx2):\n",
        "  operations = input (\"\\nWrite/Enter the Type of Operation you want to Perform (addition, substraction, multiplication, or division): \")\n",
        "  if operations == \"addition\":\n",
        "    result = np.add(mtrx1, mtrx2)\n",
        "  elif operations == \"substraction\":\n",
        "    result = np.subtract(mtrx1, mtrx2)\n",
        "  elif operations == \"multiplication\":\n",
        "    result = np.multiply(mtrx1, mtrx2)\n",
        "  elif operations == \"division\":\n",
        "    result = np.divide(mtrx1, mtrx2)\n",
        "  else:\n",
        "    print(\"\\nInvalid Operation, Please write the correct Spelling. Please Enter one of the Following: addition, substraction, multiplication, or division.\")\n",
        "    return None\n",
        "  return result\n",
        "\n",
        "def user():\n",
        "  choice = input(\"\\nDo you want to Input the Matrix values or Create Random Matrices ? (Type: input or random): \")\n",
        "  if choice == \"input\":\n",
        "    print(\"\\nCreate the First Matrix: \")\n",
        "    mtrx1 = user_matrix()\n",
        "    print(\"Create the Second Matrix: \")\n",
        "    mtrx2 = user_matrix()\n",
        "  elif choice == \"random\":\n",
        "    rows = int(input(\"\\nEnter the Number of Rows for the Random Matrices: \"))\n",
        "    cols  = int(input(\"\\nEnter the Number of Columns for the Random Matrices: \"))\n",
        "\n",
        "    mtrx1 = np.random.rand(rows, cols)\n",
        "    mtrx2 = np.random.rand(rows, cols)\n",
        "  else:\n",
        "    print(\"\\nInvalid Choice, Please Write one of the Following: input or random.\")\n",
        "    return\n",
        "\n",
        "  print(\"Matrix 1: \", mtrx1)\n",
        "  print()\n",
        "\n",
        "  print(\"Matrix 2: \", mtrx2)\n",
        "  print()\n",
        "\n",
        "\n",
        "  result = cal(mtrx1, mtrx2)\n",
        "  if result is not None:\n",
        "    print(\"Result: \", result)\n",
        "    print()\n",
        "\n",
        "  another = input(\"\\nDo you want to Perform another Operation ? (Type: yes or no): \")\n",
        "  if another == \"yes\":\n",
        "    user()\n",
        "  elif another == \"no\":\n",
        "    print(\"\\nThank You for using The Matrix Calculator. Have a Great Day!😊\")\n",
        "  else:\n",
        "    print(\"\\nInvalid Answer. Please Enter one of the Following options: yes or no.\")\n",
        "\n",
        "user()\n"
      ],
      "metadata": {
        "colab": {
          "base_uri": "https://localhost:8080/"
        },
        "id": "RVNwSjMw5-MN",
        "outputId": "92aab958-d5a3-4ebc-e2c4-dc8a9b3ad485"
      },
      "execution_count": 24,
      "outputs": [
        {
          "output_type": "stream",
          "name": "stdout",
          "text": [
            "\n",
            "Do you want to Input the Matrix values or Create Random Matrices ? (Type: input or random): input\n",
            "\n",
            "Create the First Matrix: \n",
            "\n",
            "Enter the Numbers of Rows: 2\n",
            "\n",
            "Enter the Number of Columns: 2\n",
            "\n",
            "Enter the Elemets at Row 1 and Column 1:12\n",
            "\n",
            "Enter the Elemets at Row 1 and Column 2:23\n",
            "\n",
            "Enter the Elemets at Row 2 and Column 1:21\n",
            "\n",
            "Enter the Elemets at Row 2 and Column 2:32\n",
            "\n",
            "Create the Second Matrix: \n",
            "\n",
            "Enter the Numbers of Rows: 2\n",
            "\n",
            "Enter the Number of Columns: 2\n",
            "\n",
            "Enter the Elemets at Row 1 and Column 1:9\n",
            "\n",
            "Enter the Elemets at Row 1 and Column 2:8\n",
            "\n",
            "Enter the Elemets at Row 2 and Column 1:8\n",
            "\n",
            "Enter the Elemets at Row 2 and Column 2:9\n",
            "Matrix 1:  [[12. 23.]\n",
            " [21. 32.]]\n",
            "\n",
            "Matrix 2:  [[9. 8.]\n",
            " [8. 9.]]\n",
            "\n",
            "\n",
            "Write/Enter the Type of Operation you want to Perform (addition, substraction, multiplication, or division): substraction\n",
            "Result:  [[ 3. 15.]\n",
            " [13. 23.]]\n",
            "\n",
            "\n",
            "Do you want to Perform another Operation ? (Type: yes or no): no\n",
            "\n",
            "Thank You for using The Matrix Calculator. Have a Great Day!😊\n"
          ]
        }
      ]
    }
  ]
}