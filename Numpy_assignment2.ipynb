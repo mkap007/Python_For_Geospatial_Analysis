{
  "nbformat": 4,
  "nbformat_minor": 0,
  "metadata": {
    "colab": {
      "provenance": [],
      "authorship_tag": "ABX9TyNNNPUVIq9NKdXZEnWJB+Mn",
      "include_colab_link": true
    },
    "kernelspec": {
      "name": "python3",
      "display_name": "Python 3"
    },
    "language_info": {
      "name": "python"
    }
  },
  "cells": [
    {
      "cell_type": "markdown",
      "metadata": {
        "id": "view-in-github",
        "colab_type": "text"
      },
      "source": [
        "<a href=\"https://colab.research.google.com/github/mkap007/Python_For_Geospatial_Analysis/blob/main/Numpy_assignment2.ipynb\" target=\"_parent\"><img src=\"https://colab.research.google.com/assets/colab-badge.svg\" alt=\"Open In Colab\"/></a>"
      ]
    },
    {
      "cell_type": "markdown",
      "source": [
        "<h1><b>Batch 1- Python for Geospatial Data Analysis ( Assignment No 2)</b></h1>"
      ],
      "metadata": {
        "id": "jhGolnpNVxnD"
      }
    },
    {
      "cell_type": "markdown",
      "source": [
        "**1. Create Array Using Python List .[2, 4, 6, 8]**"
      ],
      "metadata": {
        "id": "3uJXg5lUV20B"
      }
    },
    {
      "cell_type": "code",
      "source": [
        "import numpy as np"
      ],
      "metadata": {
        "id": "S_a7QosiWG2s"
      },
      "execution_count": 1,
      "outputs": []
    },
    {
      "cell_type": "code",
      "source": [
        "l1 = [2,4,6,8]\n",
        "arrl1 = np.array(l1)\n",
        "\n",
        "print(arrl1)"
      ],
      "metadata": {
        "colab": {
          "base_uri": "https://localhost:8080/"
        },
        "id": "qvrBRCALWU38",
        "outputId": "c020794a-a8e6-4a93-e815-a2160903ba41"
      },
      "execution_count": 2,
      "outputs": [
        {
          "output_type": "stream",
          "name": "stdout",
          "text": [
            "[2 4 6 8]\n"
          ]
        }
      ]
    },
    {
      "cell_type": "markdown",
      "source": [
        "**2. Create An Array by Directly Passing element**"
      ],
      "metadata": {
        "id": "eFKjnN_FWxpH"
      }
    },
    {
      "cell_type": "code",
      "source": [
        "darr = np.array([2,3,4,5,6,7,8,9])\n",
        "print(darr)"
      ],
      "metadata": {
        "colab": {
          "base_uri": "https://localhost:8080/"
        },
        "id": "xVPZ_ANIWkgK",
        "outputId": "b4147d2e-38d2-44c3-fe8a-18f5c9e62f93"
      },
      "execution_count": 3,
      "outputs": [
        {
          "output_type": "stream",
          "name": "stdout",
          "text": [
            "[2 3 4 5 6 7 8 9]\n"
          ]
        }
      ]
    },
    {
      "cell_type": "markdown",
      "source": [
        "**3. Create an array with 4 elements filled with zeros**"
      ],
      "metadata": {
        "id": "KAJWG9KqXVRW"
      }
    },
    {
      "cell_type": "code",
      "source": [
        "zerray = np.zeros(4)\n",
        "print(zerray)"
      ],
      "metadata": {
        "colab": {
          "base_uri": "https://localhost:8080/"
        },
        "id": "7G8GY9k5XOTH",
        "outputId": "d1299862-b1e6-4efd-e2c7-f7a8bee5ea22"
      },
      "execution_count": 4,
      "outputs": [
        {
          "output_type": "stream",
          "name": "stdout",
          "text": [
            "[0. 0. 0. 0.]\n"
          ]
        }
      ]
    },
    {
      "cell_type": "markdown",
      "source": [
        "**4. Create an array filled with values 1**"
      ],
      "metadata": {
        "id": "WxzFpxLWYEDE"
      }
    },
    {
      "cell_type": "code",
      "source": [
        "onarrr = np.ones(5)\n",
        "print(onarrr)"
      ],
      "metadata": {
        "colab": {
          "base_uri": "https://localhost:8080/"
        },
        "id": "nAcpVOrVXrDq",
        "outputId": "87df8b4b-8299-41a8-c9a9-2e7599878262"
      },
      "execution_count": 5,
      "outputs": [
        {
          "output_type": "stream",
          "name": "stdout",
          "text": [
            "[1. 1. 1. 1. 1.]\n"
          ]
        }
      ]
    },
    {
      "cell_type": "markdown",
      "source": [
        "**5. Create an array with values from 0 to 4.**"
      ],
      "metadata": {
        "id": "JRJydRzLY4Qa"
      }
    },
    {
      "cell_type": "code",
      "source": [
        "valarr = np.array([0,1,2,3,4])\n",
        "\n",
        "valarr1 = np.arange(5)\n",
        "\n",
        "print(valarr1)"
      ],
      "metadata": {
        "colab": {
          "base_uri": "https://localhost:8080/"
        },
        "id": "YdLvMQOHZV5E",
        "outputId": "9e9607bc-0b88-42d6-d17c-d44d218e7900"
      },
      "execution_count": 6,
      "outputs": [
        {
          "output_type": "stream",
          "name": "stdout",
          "text": [
            "[0 1 2 3 4]\n"
          ]
        }
      ]
    },
    {
      "cell_type": "markdown",
      "source": [
        "**6. Create an array with values from 1 to 8 with a step of 2**"
      ],
      "metadata": {
        "id": "hBfLLfBfaFVQ"
      }
    },
    {
      "cell_type": "code",
      "source": [
        "rarry = np.arange(1,9,2)\n",
        "print(rarry)"
      ],
      "metadata": {
        "colab": {
          "base_uri": "https://localhost:8080/"
        },
        "id": "5tNEc9wyZpPK",
        "outputId": "82173b8f-82b3-4722-eacc-711fda18be82"
      },
      "execution_count": 7,
      "outputs": [
        {
          "output_type": "stream",
          "name": "stdout",
          "text": [
            "[1 3 5 7]\n"
          ]
        }
      ]
    },
    {
      "cell_type": "markdown",
      "source": [
        "**7. Generate an array of 5 random numbers.**"
      ],
      "metadata": {
        "id": "14wu1XcHaiS5"
      }
    },
    {
      "cell_type": "code",
      "source": [
        "rnd = np.random.rand(5)\n",
        "print(rnd)"
      ],
      "metadata": {
        "colab": {
          "base_uri": "https://localhost:8080/"
        },
        "id": "V5PODfpHaXWZ",
        "outputId": "fab8b2c0-cbf5-423d-adcb-e77d8f1fe9ce"
      },
      "execution_count": 8,
      "outputs": [
        {
          "output_type": "stream",
          "name": "stdout",
          "text": [
            "[0.55031336 0.44996339 0.40409506 0.78454454 0.40288325]\n"
          ]
        }
      ]
    },
    {
      "cell_type": "markdown",
      "source": [
        "**8. Create an empty array of length 4.**"
      ],
      "metadata": {
        "id": "HCG_oTG0aq66"
      }
    },
    {
      "cell_type": "code",
      "source": [
        "mpty = np.empty(4)\n",
        "print(mpty)"
      ],
      "metadata": {
        "colab": {
          "base_uri": "https://localhost:8080/"
        },
        "id": "O3JwwNNQa0IN",
        "outputId": "ed17f063-46f9-47c2-fe81-b19b148770e3"
      },
      "execution_count": 9,
      "outputs": [
        {
          "output_type": "stream",
          "name": "stdout",
          "text": [
            "[5.07029665e-310 0.00000000e+000 6.83246574e-310 6.83245531e-310]\n"
          ]
        }
      ]
    },
    {
      "cell_type": "markdown",
      "source": [
        "**9. Create a 2D array with 2 rows and 4 columns.**"
      ],
      "metadata": {
        "id": "AYLAByyFbqHw"
      }
    },
    {
      "cell_type": "code",
      "source": [
        "Twod = np.array([[1,2,3,4], [5,6,7,8]])\n",
        "print(Twod)"
      ],
      "metadata": {
        "colab": {
          "base_uri": "https://localhost:8080/"
        },
        "id": "2quRvsmJbfF-",
        "outputId": "820e620b-a14e-4f9b-da60-64ff4d9e15f4"
      },
      "execution_count": 10,
      "outputs": [
        {
          "output_type": "stream",
          "name": "stdout",
          "text": [
            "[[1 2 3 4]\n",
            " [5 6 7 8]]\n"
          ]
        }
      ]
    },
    {
      "cell_type": "markdown",
      "source": [
        "**10. create an empty 2D array with 2 rows and 2 columns**"
      ],
      "metadata": {
        "id": "Ff0o6lP_cLGR"
      }
    },
    {
      "cell_type": "code",
      "source": [
        "mpty2d = np.empty((2,2))\n",
        "print(mpty2d)"
      ],
      "metadata": {
        "colab": {
          "base_uri": "https://localhost:8080/"
        },
        "id": "jXTrMP5eb900",
        "outputId": "383de088-0a46-4b70-8bfa-e4dbe39f996f"
      },
      "execution_count": 11,
      "outputs": [
        {
          "output_type": "stream",
          "name": "stdout",
          "text": [
            "[[5.07029665e-310 0.00000000e+000]\n",
            " [6.83246574e-310 6.83245531e-310]]\n"
          ]
        }
      ]
    },
    {
      "cell_type": "markdown",
      "source": [
        "**11. create a 2D array of 2 rows and 2 columns of random numbers**"
      ],
      "metadata": {
        "id": "FDEYNls0crvf"
      }
    },
    {
      "cell_type": "code",
      "source": [
        "rnd2d = np.random.rand(2,2)\n",
        "print(rnd2d)"
      ],
      "metadata": {
        "colab": {
          "base_uri": "https://localhost:8080/"
        },
        "id": "jq80G0F0cmiy",
        "outputId": "c3354f05-09e1-40ea-8895-e6466e2d82a8"
      },
      "execution_count": 12,
      "outputs": [
        {
          "output_type": "stream",
          "name": "stdout",
          "text": [
            "[[0.35221684 0.39007904]\n",
            " [0.28374699 0.56353837]]\n"
          ]
        }
      ]
    },
    {
      "cell_type": "markdown",
      "source": [
        "**12. Create a 2-D array with elements initialized to 5**"
      ],
      "metadata": {
        "id": "0DmLlJILdtHe"
      }
    },
    {
      "cell_type": "code",
      "source": [
        "iniarr = np.full((2,2),5)\n",
        "print(iniarr)"
      ],
      "metadata": {
        "colab": {
          "base_uri": "https://localhost:8080/"
        },
        "id": "JCDdQxkqdNOt",
        "outputId": "8faebc4b-476b-438c-f5e4-83ac93f4f0f0"
      },
      "execution_count": 13,
      "outputs": [
        {
          "output_type": "stream",
          "name": "stdout",
          "text": [
            "[[5 5]\n",
            " [5 5]]\n"
          ]
        }
      ]
    },
    {
      "cell_type": "markdown",
      "source": [
        "**13. Create an array of integers, floating Points, Complex Number.**"
      ],
      "metadata": {
        "id": "iEhGY31ieNxx"
      }
    },
    {
      "cell_type": "code",
      "source": [
        "mixarr = np.array([23, 3.4, 45j])\n",
        "print(mixarr)"
      ],
      "metadata": {
        "colab": {
          "base_uri": "https://localhost:8080/"
        },
        "id": "frBaz5aaeFDA",
        "outputId": "e6c82646-5c6d-487e-ae6e-e9649deac8a4"
      },
      "execution_count": 14,
      "outputs": [
        {
          "output_type": "stream",
          "name": "stdout",
          "text": [
            "[23.  +0.j  3.4 +0.j  0. +45.j]\n"
          ]
        }
      ]
    },
    {
      "cell_type": "markdown",
      "source": [
        "**14. Define Two Array Perform Following Operation Using For Loop**\n",
        "  1. Addition\n",
        "  2. Subtraction\n",
        "  3. Multiplication\n",
        "  4. Division"
      ],
      "metadata": {
        "id": "BhC5f8RoevJ8"
      }
    },
    {
      "cell_type": "code",
      "source": [
        "array1 = np.array([1, 2, 3, 4])\n",
        "array2 = np.array([5, 6, 7, 8])\n",
        "\n",
        "addition = np.empty(4)\n",
        "subtraction = np.empty(4)\n",
        "multiplication = np.empty(4)\n",
        "division = np.empty(4)\n",
        "\n",
        "for i in range(4):\n",
        "\n",
        "  addition[i] = array1[i] + array2[i]\n",
        "  subtraction[i] = array1[i] - array2[i]\n",
        "  multiplication[i] = array1[i] * array2[i]\n",
        "  division[i] = array1[i] / array2[i]\n",
        "\n",
        "print(\"Addition:\", addition)\n",
        "print(\"Subtraction:\", subtraction)\n",
        "print(\"Multiplication:\", multiplication)\n",
        "print(\"Division:\", division)\n"
      ],
      "metadata": {
        "colab": {
          "base_uri": "https://localhost:8080/"
        },
        "id": "bK8xlYxXgjn4",
        "outputId": "24449b72-2684-4852-ba85-e4b20e8529ec"
      },
      "execution_count": 15,
      "outputs": [
        {
          "output_type": "stream",
          "name": "stdout",
          "text": [
            "Addition: [ 6.  8. 10. 12.]\n",
            "Subtraction: [-4. -4. -4. -4.]\n",
            "Multiplication: [ 5. 12. 21. 32.]\n",
            "Division: [0.2        0.33333333 0.42857143 0.5       ]\n"
          ]
        }
      ]
    }
  ]
}